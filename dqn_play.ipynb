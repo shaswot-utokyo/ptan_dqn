{
 "cells": [
  {
   "cell_type": "code",
   "execution_count": 1,
   "metadata": {},
   "outputs": [],
   "source": [
    "# Play Atari PongNoFrameskip-v4 with DQN"
   ]
  },
  {
   "cell_type": "code",
   "execution_count": 2,
   "metadata": {},
   "outputs": [],
   "source": [
    "import gym\n",
    "import time\n",
    "import argparse\n",
    "import numpy as np\n",
    "\n",
    "import torch\n",
    "\n",
    "from lib import wrappers\n",
    "from lib import dqn_model\n",
    "\n",
    "import collections"
   ]
  },
  {
   "cell_type": "code",
   "execution_count": 3,
   "metadata": {},
   "outputs": [],
   "source": [
    "DEFAULT_ENV_NAME = \"PongNoFrameskip-v4\"\n",
    "FPS = 60"
   ]
  },
  {
   "cell_type": "code",
   "execution_count": 4,
   "metadata": {},
   "outputs": [
    {
     "name": "stdout",
     "output_type": "stream",
     "text": [
      "Total reward: 21.00\n",
      "Action counts: Counter({3: 677, 5: 354, 4: 231, 2: 178, 1: 99, 0: 91})\n"
     ]
    }
   ],
   "source": [
    "# parser = argparse.ArgumentParser()\n",
    "# parser.add_argument(\"-m\", \"--model\", required=True, help=\"Model file to load\")\n",
    "# parser.add_argument(\"-e\", \"--env\", default=DEFAULT_ENV_NAME,\n",
    "#                     help=\"Environment name to use, default=\" + DEFAULT_ENV_NAME)\n",
    "# parser.add_argument(\"-r\", \"--record\", help=\"Directory to store video recording\")\n",
    "# parser.add_argument(\"--no-visualize\", default=True, action='store_false', dest='visualize',\n",
    "#                     help=\"Disable visualization of the game play\")\n",
    "# args = parser.parse_args()\n",
    "\n",
    "VISUALIZE = True\n",
    "\n",
    "env = wrappers.make_env(DEFAULT_ENV_NAME)\n",
    "env = gym.wrappers.Monitor(env, \"recording\", force=True)\n",
    "net = dqn_model.DQN(env.observation_space.shape, env.action_space.n)\n",
    "net.load_state_dict(torch.load(\"dqn_pong-best.dat\"))\n",
    "\n",
    "state = env.reset()\n",
    "total_reward = 0.0\n",
    "action_counter = collections.Counter()\n",
    "\n",
    "while True:\n",
    "    start_ts = time.time()\n",
    "    if VISUALIZE:\n",
    "        env.render()\n",
    "    state_v = torch.tensor(np.array([state], copy=False))\n",
    "    q_vals = net(state_v).data.numpy()[0]\n",
    "    action = np.argmax(q_vals)\n",
    "    action_counter[action] += 1\n",
    "    state, reward, done, _ = env.step(action)\n",
    "    total_reward += reward\n",
    "    if done:\n",
    "        break\n",
    "    if VISUALIZE:\n",
    "        delta = 1/FPS - (time.time() - start_ts)\n",
    "        if delta > 0:\n",
    "            time.sleep(delta)\n",
    "print(\"Total reward: %.2f\" % total_reward)\n",
    "print(\"Action counts:\", action_counter)\n",
    "env.close()"
   ]
  }
 ],
 "metadata": {
  "kernelspec": {
   "display_name": "Python 3",
   "language": "python",
   "name": "python3"
  },
  "language_info": {
   "codemirror_mode": {
    "name": "ipython",
    "version": 3
   },
   "file_extension": ".py",
   "mimetype": "text/x-python",
   "name": "python",
   "nbconvert_exporter": "python",
   "pygments_lexer": "ipython3",
   "version": "3.6.9"
  }
 },
 "nbformat": 4,
 "nbformat_minor": 4
}
