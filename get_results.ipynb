{
 "cells": [
  {
   "cell_type": "code",
   "execution_count": 1,
   "metadata": {},
   "outputs": [],
   "source": [
    "import numpy as np\n",
    "import pandas as pd\n",
    "\n",
    "import os\n",
    "from os import walk\n",
    "from os import path\n",
    "from os import listdir\n",
    "from os.path import isfile, join\n",
    "from shutil import copyfile"
   ]
  },
  {
   "cell_type": "code",
   "execution_count": 2,
   "metadata": {},
   "outputs": [],
   "source": [
    "mypath = './job_outputs/logs/'\n",
    "filenames = [f for f in listdir(mypath) if isfile(join(mypath, f))]\n"
   ]
  },
  {
   "cell_type": "code",
   "execution_count": 3,
   "metadata": {},
   "outputs": [],
   "source": [
    "from collections import defaultdict\n",
    "job_id_dict = defaultdict(dict)\n",
    "solution_dict = defaultdict(dict)"
   ]
  },
  {
   "cell_type": "code",
   "execution_count": 4,
   "metadata": {},
   "outputs": [],
   "source": [
    "for file in filenames:\n",
    "    with open(path.join(mypath,file), 'r') as f:\n",
    "        if os.stat(path.join(mypath,file)).st_size == 0: continue # check if file is empty\n",
    "        if file[0]=='r': # reedbush job output file\n",
    "            x = f.readlines()\n",
    "            seed_line = x[0] # line containing seed\n",
    "            tag_line = x[-2] # line containing experiment tag\n",
    "            frame_line = x[-1] # line containing no. of frames required to solve\n",
    "\n",
    "            if seed_line.split()[0]==\"SEED:\": # check if correct line\n",
    "                seed = seed_line.split()[1] # get seed\n",
    "\n",
    "            if frame_line.split()[0]==\"Solved\": # check if solved\n",
    "                frames = frame_line.split()[2] # get no. of frames required to solve\n",
    "            else:\n",
    "                frames =\"FAILED\" # if not solved\n",
    "                tag_line = x[-1]\n",
    "\n",
    "            experiment_name = tag_line.split()[1][0:-23]\n",
    "            job_id = file[-7:]    \n",
    "            job_id_dict.update({(experiment_name,seed):job_id})\n",
    "            solution_dict.update({(experiment_name,seed):frames})\n",
    "\n",
    "            # copy the file to an organized directory\n",
    "            cur_folder = mypath#os.getcwd()\n",
    "            log_folder = os.path.join(cur_folder,experiment_name)\n",
    "            if not os.path.exists(log_folder):\n",
    "                os.makedirs(log_folder)\n",
    "            log_file = job_id + '_' + tag_line.split()[1] + '.txt'\n",
    "            log_file = os.path.join(log_folder, log_file)\n",
    "\n",
    "            copyfile(path.join(mypath,file), log_file)\n",
    "        \n",
    "        elif file[0]=='i':\n",
    "            x = f.readlines()\n",
    "            for line in range(len(x)):\n",
    "                if x[line] == '\\n': \n",
    "                    continue\n",
    "                elif x[line].split()[0] =='SEED:':\n",
    "                    seed_line = x[line]\n",
    "                elif x[line].split()[0] == 'TAG:':\n",
    "                    tag_line = x[line]\n",
    "                elif x[line].split()[0] == 'Solved':\n",
    "                    frame_line = x[line]\n",
    "                else:\n",
    "                    frame_line = None\n",
    "    #             seed_line = x[0] # line containing seed\n",
    "    #             tag_line = x[-2] # line containing experiment tag\n",
    "    #             frame_line = x[-1] # line containing no. of frames required to solve\n",
    "\n",
    "            if seed_line.split()[0]==\"SEED:\": # check if correct line\n",
    "                seed = seed_line.split()[1] # get seed\n",
    "            else:\n",
    "                print(\"BAD FILE:\", file)\n",
    "                continue\n",
    "\n",
    "            if frame_line is not None: # check if solved\n",
    "                frames = frame_line.split()[2] # get no. of frames required to solve\n",
    "            else:\n",
    "                frames =\"FAILED\" # if not solved\n",
    "#                 tag_line = x[-1]\n",
    "\n",
    "            experiment_name = tag_line.split()[1][0:-23]\n",
    "            job_id = file[-6:]    \n",
    "            job_id_dict.update({(experiment_name,seed):job_id})\n",
    "            solution_dict.update({(experiment_name,seed):frames})\n",
    "\n",
    "            # copy the file to an organized directory\n",
    "            cur_folder = mypath#os.getcwd()\n",
    "            log_folder = os.path.join(cur_folder,experiment_name)\n",
    "            if not os.path.exists(log_folder):\n",
    "                os.makedirs(log_folder)\n",
    "            log_file = job_id + '_' + tag_line.split()[1] + '.txt'\n",
    "            log_file = os.path.join(log_folder, log_file)\n",
    "\n",
    "            copyfile(path.join(mypath,file), log_file)\n",
    "        else:\n",
    "            print(\"BAD FILE:\", file)\n",
    "#         print('EXPERIMENT:\\t',experiment_name)\n",
    "#         print('SEED:\\t\\t', seed)\n",
    "#         print('JOB ID:\\t\\t', jobid )\n",
    "#         print('FRAMES:\\t\\t', frames)\n"
   ]
  },
  {
   "cell_type": "code",
   "execution_count": 5,
   "metadata": {},
   "outputs": [],
   "source": [
    "job_id_table = pd.Series(job_id_dict)\n",
    "job_id_table = job_id_table.sort_values()\n",
    "job_id_table = job_id_table.unstack()"
   ]
  },
  {
   "cell_type": "code",
   "execution_count": 6,
   "metadata": {},
   "outputs": [],
   "source": [
    "solution_table = pd.Series(solution_dict)\n",
    "solution_table = solution_table.sort_values()\n",
    "solution_table = solution_table.unstack()"
   ]
  },
  {
   "cell_type": "code",
   "execution_count": 7,
   "metadata": {},
   "outputs": [],
   "source": [
    "solution_table.to_excel('solution.xlsx')\n",
    "job_id_table.to_excel('jobid.xlsx')\n",
    "solution_table.to_csv('solution.csv')\n",
    "job_id_table.to_csv('jobid.csv')"
   ]
  }
 ],
 "metadata": {
  "kernelspec": {
   "display_name": "Python 3",
   "language": "python",
   "name": "python3"
  },
  "language_info": {
   "codemirror_mode": {
    "name": "ipython",
    "version": 3
   },
   "file_extension": ".py",
   "mimetype": "text/x-python",
   "name": "python",
   "nbconvert_exporter": "python",
   "pygments_lexer": "ipython3",
   "version": "3.6.10"
  }
 },
 "nbformat": 4,
 "nbformat_minor": 4
}
