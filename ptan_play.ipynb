{
 "cells": [
  {
   "cell_type": "code",
   "execution_count": 1,
   "metadata": {},
   "outputs": [],
   "source": [
    "# Playing Atari using PTAN library"
   ]
  },
  {
   "cell_type": "code",
   "execution_count": 2,
   "metadata": {},
   "outputs": [],
   "source": [
    "import warnings\n",
    "warnings.filterwarnings('ignore',category=FutureWarning) \n",
    "# suppress numpy future warnings \n",
    "# warning created due to issues with tensorflow 1.14\n",
    "import collections"
   ]
  },
  {
   "cell_type": "code",
   "execution_count": 3,
   "metadata": {},
   "outputs": [],
   "source": [
    "import gym\n",
    "import ptan\n",
    "import argparse\n",
    "import time\n",
    "import torch\n",
    "from lib import dqn_model, common"
   ]
  },
  {
   "cell_type": "code",
   "execution_count": 4,
   "metadata": {},
   "outputs": [],
   "source": [
    "import os\n",
    "import random\n",
    "import numpy as np\n",
    "seed = 2390857\n",
    "random.seed(seed)\n",
    "torch.manual_seed(seed)\n",
    "torch.cuda.manual_seed(seed)\n",
    "np.random.seed(seed)\n",
    "os.environ['PYTHONHASHSEED'] = str(seed)\n",
    "torch.backends.cudnn.deterministic = True\n",
    "torch.backends.cudnn.benchmark = False"
   ]
  },
  {
   "cell_type": "code",
   "execution_count": 5,
   "metadata": {},
   "outputs": [],
   "source": [
    "params = common.HYPERPARAMS['breakout']\n",
    "\n",
    "# Get parameters as specified in ./lib/common.py file\n",
    "\n",
    "# HYPERPARAMS = {\n",
    "#     'pong': {\n",
    "#         'env_name':         \"PongNoFrameskip-v4\",\n",
    "#         'stop_reward':      18.0,\n",
    "#         'run_name':         'pong',\n",
    "#         'replay_size':      100000,\n",
    "#         'replay_initial':   10000,\n",
    "#         'target_net_sync':  1000,\n",
    "#         'epsilon_frames':   10**5,\n",
    "#         'epsilon_start':    1.0,\n",
    "#         'epsilon_final':    0.02,\n",
    "#         'learning_rate':    0.0001,\n",
    "#         'gamma':            0.99,\n",
    "#         'batch_size':       32\n",
    "#     }\n"
   ]
  },
  {
   "cell_type": "code",
   "execution_count": 6,
   "metadata": {},
   "outputs": [],
   "source": [
    "USE_GPU = True\n",
    "USE_CUDA = torch.cuda.is_available() and USE_GPU\n",
    "device = torch.device(\"cuda\" if USE_CUDA else \"cpu\")"
   ]
  },
  {
   "cell_type": "code",
   "execution_count": 7,
   "metadata": {},
   "outputs": [],
   "source": [
    "env = gym.make(params['env_name'])\n",
    "env = ptan.common.wrappers.wrap_dqn(env)"
   ]
  },
  {
   "cell_type": "code",
   "execution_count": 8,
   "metadata": {},
   "outputs": [
    {
     "data": {
      "text/plain": [
       "<All keys matched successfully>"
      ]
     },
     "execution_count": 8,
     "metadata": {},
     "output_type": "execute_result"
    }
   ],
   "source": [
    "net = dqn_model.DQN(env.observation_space.shape, \n",
    "                    env.action_space.n).to(device)\n",
    "MODEL_FILENAME = './models/breakout-basic_405991.pt'\n",
    "net.load_state_dict(torch.load(MODEL_FILENAME))"
   ]
  },
  {
   "cell_type": "code",
   "execution_count": 9,
   "metadata": {},
   "outputs": [],
   "source": [
    "VISUALIZE = True\n",
    "FPS = 30"
   ]
  },
  {
   "cell_type": "code",
   "execution_count": 10,
   "metadata": {},
   "outputs": [
    {
     "name": "stdout",
     "output_type": "stream",
     "text": [
      "Total reward: 23.00\n",
      "Action counts: Counter({3: 230, 1: 171, 2: 166, 0: 146})\n"
     ]
    }
   ],
   "source": [
    "state = env.reset()\n",
    "total_reward = 0.0\n",
    "action_counter = collections.Counter()\n",
    "\n",
    "while True:\n",
    "    start_ts = time.time()\n",
    "    if VISUALIZE:\n",
    "        env.render()\n",
    "    state_v = torch.tensor(np.array(state, copy=False)).unsqueeze(dim=0)\n",
    "    q_vals = net(state_v.to(device)).data.cpu().numpy()[0]\n",
    "    action = np.argmax(q_vals)\n",
    "    action_counter[action] += 1\n",
    "    state, reward, done, _ = env.step(action)\n",
    "    total_reward += reward\n",
    "    if done:\n",
    "        break\n",
    "    if VISUALIZE:\n",
    "        delta = 1/FPS - (time.time() - start_ts)\n",
    "        if delta > 0:\n",
    "            time.sleep(delta)\n",
    "print(\"Total reward: %.2f\" % total_reward)\n",
    "print(\"Action counts:\", action_counter)\n",
    "env.close()"
   ]
  },
  {
   "cell_type": "code",
   "execution_count": 11,
   "metadata": {},
   "outputs": [],
   "source": [
    "env.close()"
   ]
  },
  {
   "cell_type": "code",
   "execution_count": null,
   "metadata": {},
   "outputs": [],
   "source": []
  }
 ],
 "metadata": {
  "kernelspec": {
   "display_name": "Python 3",
   "language": "python",
   "name": "python3"
  },
  "language_info": {
   "codemirror_mode": {
    "name": "ipython",
    "version": 3
   },
   "file_extension": ".py",
   "mimetype": "text/x-python",
   "name": "python",
   "nbconvert_exporter": "python",
   "pygments_lexer": "ipython3",
   "version": "3.6.9"
  }
 },
 "nbformat": 4,
 "nbformat_minor": 4
}
